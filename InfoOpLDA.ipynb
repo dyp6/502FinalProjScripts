{
 "cells": [
  {
   "cell_type": "code",
   "execution_count": 1,
   "metadata": {},
   "outputs": [],
   "source": [
    "import findspark\n",
    "findspark.init()\n",
    "from pyspark.sql import SparkSession\n",
    "spark = SparkSession.builder.appName(\"spark-nlp\") \\\n",
    "    .config(\"spark.jars.packages\", \"com.johnsnowlabs.nlp:spark-nlp_2.11:2.4.5\") \\\n",
    "    .getOrCreate()\n",
    "sc = spark.sparkContext"
   ]
  },
  {
   "cell_type": "code",
   "execution_count": 2,
   "metadata": {},
   "outputs": [
    {
     "name": "stderr",
     "output_type": "stream",
     "text": [
      "[nltk_data] Downloading package stopwords to /home/hadoop/nltk_data...\n",
      "[nltk_data]   Package stopwords is already up-to-date!\n",
      "[nltk_data] Downloading package words to /home/hadoop/nltk_data...\n",
      "[nltk_data]   Package words is already up-to-date!\n"
     ]
    },
    {
     "data": {
      "text/plain": [
       "True"
      ]
     },
     "execution_count": 2,
     "metadata": {},
     "output_type": "execute_result"
    }
   ],
   "source": [
    "import nltk\n",
    "nltk.download('stopwords')\n",
    "nltk.download('words')"
   ]
  },
  {
   "cell_type": "code",
   "execution_count": 3,
   "metadata": {},
   "outputs": [],
   "source": [
    "# get the list of stopwords from nltk\n",
    "from nltk.corpus import stopwords\n",
    "\n",
    "eng_stopwords = stopwords.words('english')\n",
    "eng_stopwords.append('rt')\n",
    "eng_stopwords.append('qt')\n",
    "eng_stopwords.append('&amp')\n",
    "eng_stopwords.append('amp')\n",
    "eng_stopwords.append('+')\n",
    "eng_stopwords.append('w')\n",
    "eng_stopwords.append('today')\n",
    "eng_stopwords.append('make')\n",
    "eng_stopwords.append('hear')\n",
    "eng_stopwords.append('meet')\n",
    "eng_stopwords.append('see')\n",
    "eng_stopwords.append('time')\n",
    "eng_stopwords.append('day')\n",
    "eng_stopwords.append('watch')\n",
    "eng_stopwords.append('get')\n",
    "eng_stopwords.append('im')"
   ]
  },
  {
   "cell_type": "code",
   "execution_count": 4,
   "metadata": {},
   "outputs": [],
   "source": [
    "from sparknlp.base import Finisher, DocumentAssembler\n",
    "from sparknlp.annotator import (Tokenizer, Normalizer, \n",
    "                                LemmatizerModel, StopWordsCleaner)\n",
    "from pyspark.ml.feature import CountVectorizer , IDF\n",
    "from pyspark.ml.clustering import LDA, LDAModel\n",
    "from pyspark.ml import Pipeline\n",
    "import pyspark.sql.functions as f\n",
    "import boto3, os"
   ]
  },
  {
   "cell_type": "code",
   "execution_count": 5,
   "metadata": {},
   "outputs": [
    {
     "name": "stdout",
     "output_type": "stream",
     "text": [
      "lemma_antbnc download started this may take some time.\n",
      "Approximate size to download 907.6 KB\n",
      "[OK!]\n"
     ]
    }
   ],
   "source": [
    "documentAssembler = DocumentAssembler() \\\n",
    "    .setInputCol('text_no_links') \\\n",
    "    .setOutputCol('document')\n",
    "\n",
    "tokenizer = Tokenizer() \\\n",
    "    .setInputCols(['document']) \\\n",
    "    .setOutputCol('token')\n",
    "\n",
    "# note normalizer defaults to changing all words to lowercase.\n",
    "# Use .setLowercase(False) to maintain input case.\n",
    "normalizer = Normalizer() \\\n",
    "    .setInputCols(['token']) \\\n",
    "    .setOutputCol('normalized') \\\n",
    "    .setLowercase(True)\n",
    "\n",
    "# note that lemmatizer needs a dictionary. So I used the pre-trained\n",
    "# model (note that it defaults to english)\n",
    "lemmatizer = LemmatizerModel.pretrained() \\\n",
    "    .setInputCols(['normalized']) \\\n",
    "    .setOutputCol('lemma') \\\n",
    "\n",
    "stopwords_cleaner = StopWordsCleaner() \\\n",
    "    .setInputCols(['lemma']) \\\n",
    "    .setOutputCol('clean_lemma') \\\n",
    "    .setCaseSensitive(False) \\\n",
    "    .setStopWords(eng_stopwords)\n",
    "\n",
    "# finisher converts tokens to human-readable output\n",
    "finisher = Finisher() \\\n",
    "    .setInputCols(['clean_lemma']) \\\n",
    "    .setCleanAnnotations(False)"
   ]
  },
  {
   "cell_type": "code",
   "execution_count": 6,
   "metadata": {},
   "outputs": [],
   "source": [
    "pipeline = Pipeline() \\\n",
    "    .setStages([\n",
    "        documentAssembler,\n",
    "        tokenizer,\n",
    "        normalizer,\n",
    "        lemmatizer,\n",
    "        stopwords_cleaner,\n",
    "        finisher\n",
    "    ])"
   ]
  },
  {
   "cell_type": "code",
   "execution_count": 7,
   "metadata": {},
   "outputs": [],
   "source": [
    "# Create sparse vector of counts for LDA input featuresCol\n",
    "cv = CountVectorizer(inputCol=\"finished_clean_lemma\",\n",
    "                     outputCol=\"features\", vocabSize=4500,\n",
    "                     minDF=10)\n",
    "# IDF to prepare for LDA\n",
    "idf = IDF(inputCol=\"features\", outputCol=\"idf\")\n",
    "# LDA model\n",
    "lda = LDA(k=5, maxIter=40)"
   ]
  },
  {
   "cell_type": "code",
   "execution_count": 8,
   "metadata": {},
   "outputs": [],
   "source": [
    "# Create Spark-NLP Pipeline\n",
    "mlPipeline = Pipeline(stages=[\n",
    "    cv,\n",
    "    idf,\n",
    "    lda\n",
    "])"
   ]
  },
  {
   "cell_type": "code",
   "execution_count": 9,
   "metadata": {},
   "outputs": [],
   "source": [
    "bangIO = spark.read.csv(\"s3://502finalprojbucky/InfOpTweets/bangladesh_linked_tweets_csv_hashed.csv\",header=True)"
   ]
  },
  {
   "cell_type": "code",
   "execution_count": 10,
   "metadata": {},
   "outputs": [],
   "source": [
    "#InfOpDF17 = sc.union([]).toDF()"
   ]
  },
  {
   "cell_type": "code",
   "execution_count": null,
   "metadata": {},
   "outputs": [],
   "source": []
  },
  {
   "cell_type": "code",
   "execution_count": 12,
   "metadata": {},
   "outputs": [],
   "source": [
    "#InfOpDF18 = sc.union([]).toDF()"
   ]
  },
  {
   "cell_type": "code",
   "execution_count": null,
   "metadata": {},
   "outputs": [],
   "source": []
  },
  {
   "cell_type": "code",
   "execution_count": 14,
   "metadata": {},
   "outputs": [],
   "source": [
    "#InfOpDF19 = sc.union([]).toDF()"
   ]
  },
  {
   "cell_type": "code",
   "execution_count": 15,
   "metadata": {},
   "outputs": [],
   "source": [
    "InfOpDF = sc.union([InfOpDF17.rdd,InfOpDF18.rdd,InfOpDF19.rdd]).toDF()"
   ]
  },
  {
   "cell_type": "code",
   "execution_count": 16,
   "metadata": {},
   "outputs": [],
   "source": [
    "def LDA_Prep(DF):\n",
    "    data = DF.filter(DF[\"tweet_text\"].isNull()==False).filter(DF[\"tweet_language\"]=='en').drop(\"_c0\")\n",
    "    noLinkText = data.withColumn('text_no_links',f.regexp_replace('tweet_text','http.*($|\\s)',''))\n",
    "    nlpPipeDF = pipeline.fit(noLinkText).transform(noLinkText).select(\"tweet_text\",\"finished_clean_lemma\")\n",
    "    return nlpPipeDF"
   ]
  },
  {
   "cell_type": "code",
   "execution_count": 41,
   "metadata": {},
   "outputs": [],
   "source": [
    "def LDA_Eval(mlPiped,time):\n",
    "    s3 = boto3.resource('s3')\n",
    "    ldaModel=mlPiped.stages[2]\n",
    "    ll = ldaModel.logLikelihood(LDA_DF)\n",
    "    lp = ldaModel.logPerplexity(LDA_DF)\n",
    "    with open('results.txt','w') as file:\n",
    "        file.write(\"Learned topics for \"+str(time)+\" congress tweets (as distributions over vocab of \"\n",
    "                    + str(ldaModel.vocabSize())+ \" words):\\n\\n\")\n",
    "        file.write(\"The lower bound on the log likelihood of the entire corpus: \" + str(ll))\n",
    "        file.write(\"\\nThe upper bound on perplexity: \" + str(lp))\n",
    "        file.write(\"\\n\")\n",
    "    #ldaModel.describeTopics(5).show(truncate=False)\n",
    "    # Output topics. Each is a distribution over words (matching word count vectors)\n",
    "    topics = ldaModel.describeTopics(15)\n",
    "    topics_rdd = topics.rdd\n",
    "    vocab = mlPiped.stages[0].vocabulary\n",
    "    topics_words = topics_rdd\\\n",
    "           .map(lambda row: row['termIndices'])\\\n",
    "           .map(lambda idx_list: [vocab[idx] for idx in idx_list])\\\n",
    "           .collect()\n",
    "    with open('results.txt','a') as file:\n",
    "        for idx, topic in enumerate(topics_words):\n",
    "            file.write(\"\\n----------\")\n",
    "            file.write(\"\\ntopic: \"+str(idx))\n",
    "            file.write(\"\\n----------\\n\")\n",
    "            for word in topic:\n",
    "                file.write(word+\" | \")\n",
    "        file.write(\"\\n========================================================================\\n\")\n",
    "    s3.meta.client.upload_file('results.txt', '502finalprojbucky',\n",
    "                               'InfoOpresults/results'+str(time).replace(\" \",\"\")+'.txt')"
   ]
  },
  {
   "cell_type": "code",
   "execution_count": 18,
   "metadata": {},
   "outputs": [],
   "source": [
    "# Prep the data for LDA\n",
    "prepDF = LDA_Prep()"
   ]
  },
  {
   "cell_type": "code",
   "execution_count": 19,
   "metadata": {},
   "outputs": [],
   "source": [
    "# Fit the model\n",
    "mlPipeFit = mlPipeline.fit(prepDF)"
   ]
  },
  {
   "cell_type": "code",
   "execution_count": 20,
   "metadata": {},
   "outputs": [],
   "source": [
    "# Transform the data\n",
    "LDA_DF = mlPipeFit.transform(prepDF)"
   ]
  },
  {
   "cell_type": "code",
   "execution_count": 42,
   "metadata": {},
   "outputs": [],
   "source": [
    "# Write summary of the results to a text file in s3 bucket\n",
    "LDA_Eval(mlPipeFit,\"\")"
   ]
  },
  {
   "cell_type": "code",
   "execution_count": null,
   "metadata": {},
   "outputs": [],
   "source": [
    "#spark.stop()"
   ]
  }
 ],
 "metadata": {
  "kernelspec": {
   "display_name": "Python 3",
   "language": "python",
   "name": "python3"
  },
  "language_info": {
   "codemirror_mode": {
    "name": "ipython",
    "version": 3
   },
   "file_extension": ".py",
   "mimetype": "text/x-python",
   "name": "python",
   "nbconvert_exporter": "python",
   "pygments_lexer": "ipython3",
   "version": "3.7.6"
  }
 },
 "nbformat": 4,
 "nbformat_minor": 4
}
