{
 "cells": [
  {
   "cell_type": "code",
   "execution_count": 2,
   "metadata": {},
   "outputs": [],
   "source": [
    "import findspark\n",
    "findspark.init()\n",
    "from pyspark.sql import SparkSession\n",
    "spark = SparkSession.builder.appName(\"spark-nlp\") \\\n",
    "    .config(\"spark.jars.packages\", \"com.johnsnowlabs.nlp:spark-nlp_2.11:2.4.5\") \\\n",
    "    .getOrCreate()\n",
    "sc = spark.sparkContext"
   ]
  },
  {
   "cell_type": "code",
   "execution_count": 3,
   "metadata": {},
   "outputs": [
    {
     "name": "stderr",
     "output_type": "stream",
     "text": [
      "[nltk_data] Downloading package stopwords to /home/hadoop/nltk_data...\n",
      "[nltk_data]   Package stopwords is already up-to-date!\n",
      "[nltk_data] Downloading package words to /home/hadoop/nltk_data...\n",
      "[nltk_data]   Package words is already up-to-date!\n"
     ]
    },
    {
     "data": {
      "text/plain": [
       "True"
      ]
     },
     "execution_count": 3,
     "metadata": {},
     "output_type": "execute_result"
    }
   ],
   "source": [
    "import nltk\n",
    "nltk.download('stopwords')\n",
    "nltk.download('words')"
   ]
  },
  {
   "cell_type": "code",
   "execution_count": 4,
   "metadata": {},
   "outputs": [],
   "source": [
    "# get the list of stopwords from nltk\n",
    "from nltk.corpus import stopwords\n",
    "\n",
    "eng_stopwords = stopwords.words('english')\n",
    "eng_stopwords.append('rt')\n",
    "eng_stopwords.append('qt')\n",
    "eng_stopwords.append('&amp')\n",
    "eng_stopwords.append('amp')\n",
    "eng_stopwords.append('+')\n",
    "eng_stopwords.append('w')\n",
    "eng_stopwords.append('today')\n",
    "eng_stopwords.append('live')\n",
    "eng_stopwords.append('make')\n",
    "eng_stopwords.append('hear')\n",
    "eng_stopwords.append('meet')\n",
    "eng_stopwords.append('thank')\n",
    "eng_stopwords.append('see')\n",
    "eng_stopwords.append('time')\n",
    "eng_stopwords.append('day')\n",
    "eng_stopwords.append('watch')\n",
    "eng_stopwords.append('get')\n",
    "eng_stopwords.append('th')\n",
    "eng_stopwords.append('year')\n",
    "eng_stopwords.append('la')\n",
    "eng_stopwords.append('pm')\n",
    "eng_stopwords.append('hr')\n",
    "eng_stopwords.append('rep')\n",
    "eng_stopwords.append('come')\n",
    "eng_stopwords.append('last')\n",
    "eng_stopwords.append('dc')"
   ]
  },
  {
   "cell_type": "code",
   "execution_count": 28,
   "metadata": {},
   "outputs": [],
   "source": [
    "from sparknlp.base import Finisher, DocumentAssembler\n",
    "from sparknlp.annotator import (Tokenizer, Normalizer, \n",
    "                                LemmatizerModel, StopWordsCleaner)\n",
    "from pyspark.ml.feature import CountVectorizer , IDF\n",
    "from pyspark.ml.clustering import LDA, LDAModel\n",
    "from pyspark.ml import Pipeline\n",
    "import pyspark.sql.functions as f\n",
    "import boto3, os, datetime"
   ]
  },
  {
   "cell_type": "code",
   "execution_count": 7,
   "metadata": {},
   "outputs": [
    {
     "name": "stdout",
     "output_type": "stream",
     "text": [
      "lemma_antbnc download started this may take some time.\n",
      "Approximate size to download 907.6 KB\n",
      "[OK!]\n"
     ]
    }
   ],
   "source": [
    "documentAssembler = DocumentAssembler() \\\n",
    "    .setInputCol('text_no_links') \\\n",
    "    .setOutputCol('document')\n",
    "\n",
    "tokenizer = Tokenizer() \\\n",
    "    .setInputCols(['document']) \\\n",
    "    .setOutputCol('token')\n",
    "\n",
    "# note normalizer defaults to changing all words to lowercase.\n",
    "# Use .setLowercase(False) to maintain input case.\n",
    "normalizer = Normalizer() \\\n",
    "    .setInputCols(['token']) \\\n",
    "    .setOutputCol('normalized') \\\n",
    "    .setLowercase(True)\n",
    "\n",
    "# note that lemmatizer needs a dictionary. So I used the pre-trained\n",
    "# model (note that it defaults to english)\n",
    "lemmatizer = LemmatizerModel.pretrained() \\\n",
    "    .setInputCols(['normalized']) \\\n",
    "    .setOutputCol('lemma') \\\n",
    "\n",
    "stopwords_cleaner = StopWordsCleaner() \\\n",
    "    .setInputCols(['lemma']) \\\n",
    "    .setOutputCol('clean_lemma') \\\n",
    "    .setCaseSensitive(False) \\\n",
    "    .setStopWords(eng_stopwords)\n",
    "\n",
    "# finisher converts tokens to human-readable output\n",
    "finisher = Finisher() \\\n",
    "    .setInputCols(['clean_lemma']) \\\n",
    "    .setCleanAnnotations(False)"
   ]
  },
  {
   "cell_type": "code",
   "execution_count": 8,
   "metadata": {},
   "outputs": [],
   "source": [
    "pipeline = Pipeline() \\\n",
    "    .setStages([\n",
    "        documentAssembler,\n",
    "        tokenizer,\n",
    "        normalizer,\n",
    "        lemmatizer,\n",
    "        stopwords_cleaner,\n",
    "        finisher\n",
    "    ])"
   ]
  },
  {
   "cell_type": "code",
   "execution_count": 9,
   "metadata": {},
   "outputs": [],
   "source": [
    "# Create sparse vector of counts for LDA input featuresCol\n",
    "cv = CountVectorizer(inputCol=\"finished_clean_lemma\",\n",
    "                     outputCol=\"features\", vocabSize=3500,\n",
    "                     minDF=8)\n",
    "# IDF to prepare for LDA\n",
    "idf = IDF(inputCol=\"features\", outputCol=\"idf\")\n",
    "# LDA model\n",
    "lda = LDA(k=4, maxIter=50)"
   ]
  },
  {
   "cell_type": "code",
   "execution_count": 10,
   "metadata": {},
   "outputs": [],
   "source": [
    "# Create Spark-NLP Pipeline\n",
    "mlPipeline = Pipeline(stages=[\n",
    "    cv,\n",
    "    idf,\n",
    "    lda\n",
    "])"
   ]
  },
  {
   "cell_type": "code",
   "execution_count": 44,
   "metadata": {},
   "outputs": [],
   "source": [
    "InfOp = spark.read.csv(\"s3://502finalprojbucky/InfOpEnglish/*.csv\").dropDuplicates().na.drop()"
   ]
  },
  {
   "cell_type": "code",
   "execution_count": 45,
   "metadata": {},
   "outputs": [],
   "source": [
    "InfOp = InfOp.withColumnRenamed(\"_c0\",\"user_loc\")\\\n",
    "        .withColumnRenamed(\"_c3\",\"tweet_text\")\\\n",
    "        .withColumnRenamed(\"_c4\",\"tweet_time\")"
   ]
  },
  {
   "cell_type": "code",
   "execution_count": 46,
   "metadata": {},
   "outputs": [],
   "source": [
    "InfOp = InfOp.select([\"tweet_text\",\"user_loc\",f.to_date(InfOp.tweet_time,\"yyyy-MM-dd HH:mm\").alias(\"time\")])"
   ]
  },
  {
   "cell_type": "code",
   "execution_count": 56,
   "metadata": {},
   "outputs": [],
   "source": [
    "MonthlyInf19 = []\n",
    "for i in list(range(1,12)):\n",
    "    MonthlyInf18.append(InfOp.where((InfOp.time >= datetime.date(2019,i,1))&(InfOp.time < datetime.date(2019,i+1,1))))\n",
    "MonthlyInf19.append(InfOp.where((InfOp.time >= datetime.date(2019,12,1))&(InfOp.time < datetime.date(2020,1,1))))"
   ]
  },
  {
   "cell_type": "code",
   "execution_count": 57,
   "metadata": {},
   "outputs": [],
   "source": [
    "MonthlyInf18 = []\n",
    "for i in list(range(1,12)):\n",
    "    MonthlyInf18.append(InfOp.where((InfOp.time >= datetime.date(2018,i,1))&(InfOp.time < datetime.date(2018,i+1,1))))\n",
    "MonthlyInf18.append(InfOp.where((InfOp.time >= datetime.date(2018,12,1))&(InfOp.time < datetime.date(2019,1,1))))"
   ]
  },
  {
   "cell_type": "code",
   "execution_count": 58,
   "metadata": {},
   "outputs": [],
   "source": [
    "MonthlyInf17 = []\n",
    "for i in list(range(6,12)):\n",
    "    MonthlyInf17.append(InfOp.where((InfOp.time >= datetime.date(2017,i,1))&(InfOp.time < datetime.date(2017,i+1,1))))\n",
    "MonthlyInf17.append(InfOp.where((InfOp.time >= datetime.date(2017,12,1))&(InfOp.time < datetime.date(2018,1,1))))"
   ]
  },
  {
   "cell_type": "code",
   "execution_count": 50,
   "metadata": {},
   "outputs": [],
   "source": [
    "Months2019 = [\"Jan 2019\",\"Feb 2019\",\"Mar 2019\",\n",
    "             \"Apr 2019\",\"May 2019\",\"June 2019\",\n",
    "             \"July 2019\",\"Aug 2019\",\"Sep 2019\",\n",
    "             \"Oct 2019\",\"Nov 2019\",\"Dec 2019\"]"
   ]
  },
  {
   "cell_type": "code",
   "execution_count": 51,
   "metadata": {},
   "outputs": [],
   "source": [
    "Months2018 = [\"Jan 2018\",\"Feb 2018\",\"Mar 2018\",\n",
    "             \"Apr 2018\",\"May 2018\",\"June 2018\",\n",
    "             \"July 2018\",\"Aug 2018\",\"Sep 2018\",\n",
    "             \"Oct 2018\",\"Nov 2018\",\"Dec 2018\"]"
   ]
  },
  {
   "cell_type": "code",
   "execution_count": 52,
   "metadata": {},
   "outputs": [],
   "source": [
    "Months2017 = [\"June 2017\",\"July 2017\",\"Aug 2017\",\n",
    "              \"Sep 2017\",\"Oct 2017\",\"Nov 2017\",\n",
    "              \"Dec 2017\"]"
   ]
  },
  {
   "cell_type": "code",
   "execution_count": 53,
   "metadata": {},
   "outputs": [],
   "source": [
    "def LDA_Prep(DF):\n",
    "    data = DF.filter(DF[\"tweet_text\"].isNull()==False)\n",
    "    noLinkText = data.withColumn('text_no_links',f.regexp_replace('tweet_text','http.*($|\\s)',''))\n",
    "    nlpPipeDF = pipeline.fit(noLinkText).transform(noLinkText).select(\"tweet_text\",\"finished_clean_lemma\")\n",
    "    return nlpPipeDF"
   ]
  },
  {
   "cell_type": "code",
   "execution_count": 54,
   "metadata": {},
   "outputs": [],
   "source": [
    "def LDA_Eval(mlPiped,time):\n",
    "    s3 = boto3.resource('s3')\n",
    "    ldaModel=mlPiped.stages[2]\n",
    "    ll = ldaModel.logLikelihood(LDA_DF)\n",
    "    lp = ldaModel.logPerplexity(LDA_DF)\n",
    "    with open('results.txt','w') as file:\n",
    "        file.write(\"Learned topics for \"+str(time)+\" congress tweets (as distributions over vocab of \"\n",
    "                    + str(ldaModel.vocabSize())+ \" words):\\n\\n\")\n",
    "        file.write(\"The lower bound on the log likelihood of the entire corpus: \" + str(ll))\n",
    "        file.write(\"\\nThe upper bound on perplexity: \" + str(lp))\n",
    "        file.write(\"\\n\")\n",
    "    #ldaModel.describeTopics(5).show(truncate=False)\n",
    "    # Output topics. Each is a distribution over words (matching word count vectors)\n",
    "    topics = ldaModel.describeTopics(40)\n",
    "    topics_rdd = topics.rdd\n",
    "    vocab = mlPiped.stages[0].vocabulary\n",
    "    topics_words = topics_rdd\\\n",
    "           .map(lambda row: row['termIndices'])\\\n",
    "           .map(lambda idx_list: [vocab[idx] for idx in idx_list])\\\n",
    "           .collect()\n",
    "    with open('results.txt','a') as file:\n",
    "        for idx, topic in enumerate(topics_words):\n",
    "            file.write(\"\\n----------\")\n",
    "            file.write(\"\\ntopic: \"+str(idx))\n",
    "            file.write(\"\\n----------\\n\")\n",
    "            for word in topic:\n",
    "                file.write(word+\" | \")\n",
    "        file.write(\"\\n========================================================================\\n\")\n",
    "    s3.meta.client.upload_file('results.txt', '502finalprojbucky',\n",
    "                               'InfoOpResults/results'+str(time).replace(\" \",\"\")+'.txt')"
   ]
  },
  {
   "cell_type": "code",
   "execution_count": 43,
   "metadata": {},
   "outputs": [
    {
     "name": "stdout",
     "output_type": "stream",
     "text": [
      "0:03:20.094769\n",
      "0:02:35.693948\n",
      "0:02:27.078556\n",
      "0:02:01.047751\n",
      "0:02:09.048802\n",
      "0:02:40.001430\n",
      "0:02:45.534497\n",
      "0:02:31.962962\n",
      "0:02:33.664660\n",
      "0:02:28.588914\n",
      "0:02:22.751243\n",
      "0:02:13.647976\n"
     ]
    }
   ],
   "source": [
    "for df,month in zip(MonthlyInf,Months2019):\n",
    "    timestamp = datetime.datetime.now()\n",
    "    # Prep the data for LDA\n",
    "    prepDF = LDA_Prep(df)    \n",
    "    # Fit the model\n",
    "    mlPipeFit = mlPipeline.fit(prepDF)\n",
    "    # Transform the data\n",
    "    LDA_DF = mlPipeFit.transform(prepDF)\n",
    "    # Write summary of the results to a text file in s3 bucket\n",
    "    LDA_Eval(mlPipeFit,month)\n",
    "    print(datetime.datetime.now()-timestamp)"
   ]
  },
  {
   "cell_type": "code",
   "execution_count": 60,
   "metadata": {},
   "outputs": [
    {
     "name": "stdout",
     "output_type": "stream",
     "text": [
      "0:05:04.429936\n",
      "0:04:51.798520\n",
      "0:04:30.641335\n",
      "0:03:59.903617\n",
      "0:04:20.734335\n",
      "0:04:00.206736\n",
      "0:03:28.542396\n",
      "0:02:58.900830\n",
      "0:02:24.705816\n",
      "0:02:31.917097\n",
      "0:02:26.385442\n"
     ]
    }
   ],
   "source": [
    "for df,month in zip(MonthlyInf18[0:11],Months2018[0:11]):\n",
    "    timestamp = datetime.datetime.now()\n",
    "    # Prep the data for LDA\n",
    "    prepDF = LDA_Prep(df)    \n",
    "    # Fit the model\n",
    "    mlPipeFit = mlPipeline.fit(prepDF)\n",
    "    # Transform the data\n",
    "    LDA_DF = mlPipeFit.transform(prepDF)\n",
    "    # Write summary of the results to a text file in s3 bucket\n",
    "    LDA_Eval(mlPipeFit,month)\n",
    "    print(datetime.datetime.now()-timestamp)"
   ]
  },
  {
   "cell_type": "code",
   "execution_count": 61,
   "metadata": {},
   "outputs": [
    {
     "name": "stdout",
     "output_type": "stream",
     "text": [
      "0:07:54.314585\n",
      "0:08:32.962928\n",
      "0:12:19.429397\n",
      "0:05:46.186280\n",
      "0:05:51.229044\n",
      "0:04:20.667861\n",
      "0:04:37.932591\n"
     ]
    }
   ],
   "source": [
    "for df,month in zip(MonthlyInf17,Months2017):\n",
    "    timestamp = datetime.datetime.now()\n",
    "    # Prep the data for LDA\n",
    "    prepDF = LDA_Prep(df)    \n",
    "    # Fit the model\n",
    "    mlPipeFit = mlPipeline.fit(prepDF)\n",
    "    # Transform the data\n",
    "    LDA_DF = mlPipeFit.transform(prepDF)\n",
    "    # Write summary of the results to a text file in s3 bucket\n",
    "    LDA_Eval(mlPipeFit,month)\n",
    "    print(datetime.datetime.now()-timestamp)"
   ]
  },
  {
   "cell_type": "code",
   "execution_count": null,
   "metadata": {},
   "outputs": [],
   "source": [
    "#spark.stop()"
   ]
  }
 ],
 "metadata": {
  "kernelspec": {
   "display_name": "Python 3",
   "language": "python",
   "name": "python3"
  },
  "language_info": {
   "codemirror_mode": {
    "name": "ipython",
    "version": 3
   },
   "file_extension": ".py",
   "mimetype": "text/x-python",
   "name": "python",
   "nbconvert_exporter": "python",
   "pygments_lexer": "ipython3",
   "version": "3.7.6"
  }
 },
 "nbformat": 4,
 "nbformat_minor": 4
}
