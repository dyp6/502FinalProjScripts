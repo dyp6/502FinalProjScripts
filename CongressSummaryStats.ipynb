{
 "cells": [
  {
   "cell_type": "code",
   "execution_count": 1,
   "metadata": {},
   "outputs": [],
   "source": [
    "import findspark\n",
    "findspark.init()\n",
    "from pyspark.sql import SparkSession\n",
    "spark = SparkSession.builder.appName(\"spark-nlp\") \\\n",
    "    .config(\"spark.jars.packages\", \"com.johnsnowlabs.nlp:spark-nlp_2.11:2.4.5\") \\\n",
    "    .getOrCreate()\n",
    "sc = spark.sparkContext"
   ]
  },
  {
   "cell_type": "code",
   "execution_count": 2,
   "metadata": {},
   "outputs": [],
   "source": [
    "from pyspark.sql.functions import col, countDistinct, desc, year, month, dayofmonth\n",
    "import datetime\n",
    "from pyspark.sql.types import DateType"
   ]
  },
  {
   "cell_type": "code",
   "execution_count": 3,
   "metadata": {},
   "outputs": [],
   "source": [
    "congDF0617 = spark.read.csv(\"s3://502finalprojbucky/congresstweets/data/June2017.csv/*.part\",header=True)\n",
    "congDF0717 = spark.read.csv(\"s3://502finalprojbucky/congresstweets/data/July2017.csv/*.part\",header=True)\n",
    "congDF0817 = spark.read.csv(\"s3://502finalprojbucky/congresstweets/data/Aug2017.csv/*.part\",header=True)\n",
    "congDF0917 = spark.read.csv(\"s3://502finalprojbucky/congresstweets/data/Sep2017.csv/*.part\",header=True)\n",
    "congDF1017 = spark.read.csv(\"s3://502finalprojbucky/congresstweets/data/Oct2017.csv/*.part\",header=True)\n",
    "congDF1117 = spark.read.csv(\"s3://502finalprojbucky/congresstweets/data/Nov2017.csv/*.part\",header=True)\n",
    "congDF1217 = spark.read.csv(\"s3://502finalprojbucky/congresstweets/data/Dec2017.csv/*.part\",header=True)"
   ]
  },
  {
   "cell_type": "code",
   "execution_count": 10,
   "metadata": {},
   "outputs": [
    {
     "name": "stdout",
     "output_type": "stream",
     "text": [
      "+---+------------------+-------------+--------+--------------------+--------------------+--------------------+------------------+\n",
      "|_c0|                id|  screen_name| user_id|                time|                link|                text|            source|\n",
      "+---+------------------+-------------+--------+--------------------+--------------------+--------------------+------------------+\n",
      "|  0|930444342602366976| SenBobCorker|73303753|2017-11-14T09:36:...|https://www.twitt...|Today at 10:00 a....|Twitter Web Client|\n",
      "|  1|930444865590185984|Scotttaylorva|42337890|2017-11-14T09:38:...|https://www.twitt...|I voted no...I be...|Twitter for iPhone|\n",
      "+---+------------------+-------------+--------+--------------------+--------------------+--------------------+------------------+\n",
      "only showing top 2 rows\n",
      "\n"
     ]
    }
   ],
   "source": [
    "congDF1117.show(2)"
   ]
  },
  {
   "cell_type": "code",
   "execution_count": 5,
   "metadata": {},
   "outputs": [
    {
     "name": "stdout",
     "output_type": "stream",
     "text": [
      "+---+------------------+-------------+--------------------+--------------------+--------------------+------------------+---------+\n",
      "|_c0|                id|  screen_name|                time|                link|                text|            source|  user_id|\n",
      "+---+------------------+-------------+--------------------+--------------------+--------------------+------------------+---------+\n",
      "|  0|897565284428648449|lutherstrange|2017-08-15T17:06:...|https://www.twitt...|Watch why @realDo...|     Sprout Social| 15141113|\n",
      "|  1|897448709507563524|RepRichHudson|2017-08-15T09:23:...|https://www.twitt...|Renee &amp; I joi...|Twitter Web Client|935033864|\n",
      "+---+------------------+-------------+--------------------+--------------------+--------------------+------------------+---------+\n",
      "only showing top 2 rows\n",
      "\n"
     ]
    }
   ],
   "source": [
    "congDF0817.show(2)"
   ]
  },
  {
   "cell_type": "code",
   "execution_count": 6,
   "metadata": {},
   "outputs": [],
   "source": [
    "cong_2017 = sc.union([congDF0617.rdd,congDF0717.rdd,\n",
    "                  congDF0817.rdd,congDF0917.rdd,\n",
    "                  congDF1017.rdd,congDF1117.rdd,\n",
    "                  congDF1217.rdd]).toDF()"
   ]
  },
  {
   "cell_type": "code",
   "execution_count": 7,
   "metadata": {},
   "outputs": [
    {
     "name": "stdout",
     "output_type": "stream",
     "text": [
      "+---+------------------+-----------+--------------------+--------------------+--------------------+---------+--------+\n",
      "|_c0|                id|screen_name|                time|                link|                text|   source| user_id|\n",
      "+---+------------------+-----------+--------------------+--------------------+--------------------+---------+--------+\n",
      "|  0|879753852312006657| ChrisCoons|2017-06-27T13:30:...|https://www.twitt...|Listen to these s...|TweetDeck|15324851|\n",
      "+---+------------------+-----------+--------------------+--------------------+--------------------+---------+--------+\n",
      "only showing top 1 row\n",
      "\n"
     ]
    }
   ],
   "source": [
    "cong_2017.show(1)"
   ]
  },
  {
   "cell_type": "code",
   "execution_count": 8,
   "metadata": {},
   "outputs": [
    {
     "name": "stdout",
     "output_type": "stream",
     "text": [
      "+--------------+-----+\n",
      "|   screen_name|count|\n",
      "+--------------+-----+\n",
      "|          null|37171|\n",
      "|       auctnr1|10695|\n",
      "|   RepDonBeyer| 4257|\n",
      "|    RepJayapal| 3620|\n",
      "|   RepThompson| 3331|\n",
      "|  RepCloakroom| 3219|\n",
      "|   LacyClayMO1| 3058|\n",
      "|   RosLehtinen| 2386|\n",
      "|      RoKhanna| 2017|\n",
      "|    SenateDems| 2011|\n",
      "|       tedlieu| 2003|\n",
      "|HispanicCaucus| 1898|\n",
      "|    JohnCornyn| 1835|\n",
      "|  keithellison| 1744|\n",
      "|     WhipHoyer| 1740|\n",
      "| senorrinhatch| 1727|\n",
      "|   brianschatz| 1712|\n",
      "| senrobportman| 1699|\n",
      "|RepDwightEvans| 1684|\n",
      "| SenWhitehouse| 1610|\n",
      "+--------------+-----+\n",
      "only showing top 20 rows\n",
      "\n"
     ]
    }
   ],
   "source": [
    "cong_2017.groupBy(\"screen_name\").count().orderBy(desc('count')).show(20)"
   ]
  },
  {
   "cell_type": "code",
   "execution_count": null,
   "metadata": {},
   "outputs": [],
   "source": [
    "cong_2017.groupBy(\"screen_name\").count().orderBy('count').show(10)"
   ]
  },
  {
   "cell_type": "code",
   "execution_count": 11,
   "metadata": {},
   "outputs": [],
   "source": [
    "congDF0118 = spark.read.csv(\"s3://502finalprojbucky/congresstweets/data/Jan2018.csv/*.part\",header=True)\n",
    "congDF0218 = spark.read.csv(\"s3://502finalprojbucky/congresstweets/data/Feb2018.csv/*.part\",header=True)\n",
    "congDF0318 = spark.read.csv(\"s3://502finalprojbucky/congresstweets/data/Mar2018.csv/*.part\",header=True)\n",
    "congDF0418 = spark.read.csv(\"s3://502finalprojbucky/congresstweets/data/Apr2018.csv/*.part\",header=True)\n",
    "congDF0518 = spark.read.csv(\"s3://502finalprojbucky/congresstweets/data/May2018.csv/*.part\",header=True)\n",
    "congDF0618 = spark.read.csv(\"s3://502finalprojbucky/congresstweets/data/June2018.csv/*.part\",header=True)\n",
    "congDF0718 = spark.read.csv(\"s3://502finalprojbucky/congresstweets/data/July2018.csv/*.part\",header=True)\n",
    "congDF0818 = spark.read.csv(\"s3://502finalprojbucky/congresstweets/data/Aug2018.csv/*.part\",header=True)\n",
    "congDF0918 = spark.read.csv(\"s3://502finalprojbucky/congresstweets/data/Sep2018.csv/*.part\",header=True)\n",
    "congDF1018 = spark.read.csv(\"s3://502finalprojbucky/congresstweets/data/Oct2018.csv/*.part\",header=True)\n",
    "congDF1118 = spark.read.csv(\"s3://502finalprojbucky/congresstweets/data/Nov2018.csv/*.part\",header=True)\n",
    "congDF1218 = spark.read.csv(\"s3://502finalprojbucky/congresstweets/data/Dec2018.csv/*.part\",header=True)"
   ]
  },
  {
   "cell_type": "code",
   "execution_count": 26,
   "metadata": {},
   "outputs": [
    {
     "name": "stdout",
     "output_type": "stream",
     "text": [
      "+-------------------+------------+--------+--------------------+--------------------+--------------------+------------------+\n",
      "|                 id| screen_name| user_id|                time|                link|                text|            source|\n",
      "+-------------------+------------+--------+--------------------+--------------------+--------------------+------------------+\n",
      "|1075891288526983168|SenAlexander|76649729|2018-12-20T18:10:...|https://www.twitt...|The #FarmBill als...|Twitter for iPhone|\n",
      "+-------------------+------------+--------+--------------------+--------------------+--------------------+------------------+\n",
      "only showing top 1 row\n",
      "\n"
     ]
    }
   ],
   "source": [
    "congDF1218.show(1)"
   ]
  },
  {
   "cell_type": "code",
   "execution_count": 15,
   "metadata": {},
   "outputs": [
    {
     "name": "stdout",
     "output_type": "stream",
     "text": [
      "+------------------+-------------+---------+--------------------+--------------------+--------------------+------------------+\n",
      "|                id|  screen_name|  user_id|                time|                link|                text|            source|\n",
      "+------------------+-------------+---------+--------------------+--------------------+--------------------+------------------+\n",
      "|958342797941096449|cathymcmorris| 17976923|2018-01-30T09:15:...|https://www.twitt...|As the #TaxCutsan...|      Media Studio|\n",
      "|958514743475568640| RepFredUpton|124224165|2018-01-30T20:38:...|https://www.twitt...|#SOTU ready with ...|Twitter Web Client|\n",
      "+------------------+-------------+---------+--------------------+--------------------+--------------------+------------------+\n",
      "only showing top 2 rows\n",
      "\n"
     ]
    }
   ],
   "source": [
    "congDF0118.show(2)"
   ]
  },
  {
   "cell_type": "code",
   "execution_count": null,
   "metadata": {},
   "outputs": [],
   "source": []
  },
  {
   "cell_type": "code",
   "execution_count": null,
   "metadata": {},
   "outputs": [],
   "source": []
  },
  {
   "cell_type": "code",
   "execution_count": 12,
   "metadata": {},
   "outputs": [],
   "source": [
    "cong_2018 = sc.union([congDF0118.rdd,congDF0218.rdd,\n",
    "                     congDF0318.rdd,congDF0418.rdd,\n",
    "                     congDF0518.rdd,congDF0618.rdd,\n",
    "                     congDF0718.rdd,congDF0818.rdd,\n",
    "                     congDF0918.rdd,congDF1018.rdd,\n",
    "                     congDF1118.rdd,congDF1218.rdd]).toDF()"
   ]
  },
  {
   "cell_type": "code",
   "execution_count": 13,
   "metadata": {},
   "outputs": [
    {
     "name": "stdout",
     "output_type": "stream",
     "text": [
      "+------------------+-----+\n",
      "|       screen_name|count|\n",
      "+------------------+-----+\n",
      "|              null|66155|\n",
      "|Twitter Web Client|44468|\n",
      "|Twitter for iPhone|32719|\n",
      "|         TweetDeck|22084|\n",
      "|           auctnr1|19672|\n",
      "|       LacyClayMO1| 8779|\n",
      "|       RepDonBeyer| 6004|\n",
      "|    HispanicCaucus| 5975|\n",
      "|        RepJayapal| 5087|\n",
      "|      RepCloakroom| 5029|\n",
      "|        SenateDems| 4628|\n",
      "|             CAPAC| 4481|\n",
      "|           tedlieu| 4217|\n",
      "|          RoKhanna| 4187|\n",
      "|        JohnCornyn| 4035|\n",
      "|     senorrinhatch| 3954|\n",
      "|        VoteMarsha| 3862|\n",
      "|       RosLehtinen| 3730|\n",
      "|   JoaquinCastrotx| 3679|\n",
      "|       brianschatz| 3642|\n",
      "+------------------+-----+\n",
      "only showing top 20 rows\n",
      "\n"
     ]
    }
   ],
   "source": [
    "cong_2018.groupBy(\"screen_name\").count().orderBy(desc('count')).show(20)"
   ]
  },
  {
   "cell_type": "code",
   "execution_count": null,
   "metadata": {},
   "outputs": [],
   "source": []
  },
  {
   "cell_type": "code",
   "execution_count": 27,
   "metadata": {},
   "outputs": [],
   "source": [
    "congDF0119 = spark.read.csv(\"s3://502finalprojbucky/congresstweets/data/Jan2019.csv/*.part\",header=True)\n",
    "congDF0219 = spark.read.csv(\"s3://502finalprojbucky/congresstweets/data/Feb2019.csv/*.part\",header=True)\n",
    "congDF0319 = spark.read.csv(\"s3://502finalprojbucky/congresstweets/data/Mar2019.csv/*.part\",header=True)\n",
    "congDF0419 = spark.read.csv(\"s3://502finalprojbucky/congresstweets/data/Apr2019.csv/*.part\",header=True)\n",
    "congDF0519 = spark.read.csv(\"s3://502finalprojbucky/congresstweets/data/May2019.csv/*.part\",header=True)\n",
    "congDF0619 = spark.read.csv(\"s3://502finalprojbucky/congresstweets/data/June2019.csv/*.part\",header=True)\n",
    "congDF0719 = spark.read.csv(\"s3://502finalprojbucky/congresstweets/data/July2019.csv/*.part\",header=True)\n",
    "congDF0819 = spark.read.csv(\"s3://502finalprojbucky/congresstweets/data/Aug2019.csv/*.part\",header=True)\n",
    "congDF0919 = spark.read.csv(\"s3://502finalprojbucky/congresstweets/data/Sep2019.csv/*.part\",header=True)\n",
    "congDF1019 = spark.read.csv(\"s3://502finalprojbucky/congresstweets/data/Oct2019.csv/*.part\",header=True)\n",
    "congDF1119 = spark.read.csv(\"s3://502finalprojbucky/congresstweets/data/Nov2019.csv/*.part\",header=True)\n",
    "congDF1219 = spark.read.csv(\"s3://502finalprojbucky/congresstweets/data/Dec2019.csv/*.part\",header=True)"
   ]
  },
  {
   "cell_type": "code",
   "execution_count": 28,
   "metadata": {},
   "outputs": [],
   "source": [
    "cong_2019 = sc.union([congDF0119.rdd,congDF0219.rdd,\n",
    "                     congDF0319.rdd,congDF0419.rdd,\n",
    "                     congDF0519.rdd,congDF0619.rdd,\n",
    "                     congDF0719.rdd,congDF0819.rdd,\n",
    "                     congDF0919.rdd,congDF1019.rdd,\n",
    "                     congDF1119.rdd,congDF1219.rdd]).toDF()"
   ]
  },
  {
   "cell_type": "code",
   "execution_count": 29,
   "metadata": {},
   "outputs": [
    {
     "name": "stdout",
     "output_type": "stream",
     "text": [
      "+--------------------+------+\n",
      "|         screen_name| count|\n",
      "+--------------------+------+\n",
      "|                null|156526|\n",
      "|  Twitter for iPhone| 71560|\n",
      "|     Twitter Web App| 45170|\n",
      "|  Twitter Web Client| 36748|\n",
      "|           TweetDeck| 33677|\n",
      "|             auctnr1| 13196|\n",
      "|           chiproytx| 10978|\n",
      "|      HispanicCaucus| 10599|\n",
      "| Twitter for Android|  6211|\n",
      "|         LacyClayMO1|  6005|\n",
      "|         RepDonBeyer|  5922|\n",
      "|     Castro4Congress|  5828|\n",
      "|Twitter Media Studio|  5741|\n",
      "|        RepCloakroom|  5716|\n",
      "|      HouseJudiciary|  5713|\n",
      "|      RepAndyBiggsAZ|  5268|\n",
      "|            HouseGOP|  5195|\n",
      "|             ewarren|  4830|\n",
      "|          RepJayapal|  4521|\n",
      "|       BernieSanders|  4498|\n",
      "+--------------------+------+\n",
      "only showing top 20 rows\n",
      "\n"
     ]
    }
   ],
   "source": [
    "cong_2019.groupBy(\"screen_name\").count().orderBy(desc('count')).show(20)"
   ]
  },
  {
   "cell_type": "code",
   "execution_count": 30,
   "metadata": {},
   "outputs": [
    {
     "name": "stdout",
     "output_type": "stream",
     "text": [
      "+--------------------+-----+\n",
      "|         screen_name|count|\n",
      "+--------------------+-----+\n",
      "| Hillary Clinton ...|    1|\n",
      "| but #BoneSpurs d...|    1|\n",
      "| &amp; at the end...|    1|\n",
      "| and to make it e...|    1|\n",
      "|it would be a dan...|    1|\n",
      "| with a message t...|    1|\n",
      "| we will confront...|    1|\n",
      "| a 7th grade Grot...|    1|\n",
      "| the White House ...|    1|\n",
      "| but now a judge ...|    1|\n",
      "| I led 38 of my c...|    1|\n",
      "| &amp; we're dema...|    1|\n",
      "| I can do small t...|    1|\n",
      "| there was a swee...|    1|\n",
      "| which @HouseDemo...|    1|\n",
      "| the unemployment...|    1|\n",
      "| let us pause to ...|    1|\n",
      "| y no hay camino ...|    1|\n",
      "| virtually no ele...|    1|\n",
      "| Republicans will...|    1|\n",
      "+--------------------+-----+\n",
      "only showing top 20 rows\n",
      "\n"
     ]
    }
   ],
   "source": [
    "cong_2019.groupBy(\"screen_name\").count().orderBy('count').show(20)"
   ]
  },
  {
   "cell_type": "code",
   "execution_count": 9,
   "metadata": {},
   "outputs": [
    {
     "name": "stdout",
     "output_type": "stream",
     "text": [
      "+-------------------+---------------+-------------------+--------------------+--------------------+--------------------+------------------+\n",
      "|                _c0|            _c1|                _c2|                 _c3|                 _c4|                 _c5|               _c6|\n",
      "+-------------------+---------------+-------------------+--------------------+--------------------+--------------------+------------------+\n",
      "|1207381409809207296|  EliseStefanik|          109579534|2019-12-18T14:25:...|https://www.twitt...|I am excited to d...|Twitter for iPhone|\n",
      "|1207381362031894537| HouseJudiciary|          246357149|2019-12-18T14:25:...|https://www.twitt...|.@realDonaldTrump...|   Twitter Web App|\n",
      "|1207381351105732610|CaptClayHiggins|1011053278304591872|2019-12-18T14:25:...|https://www.twitt...|We have a choice,...|   Twitter Web App|\n",
      "|1207381243408637953|      RepWilson|          234014087|2019-12-18T14:24:...|https://www.twitt...|Today the House v...|   Twitter Web App|\n",
      "|1207381205999591424|    RepSusieLee|1079061579973439488|2019-12-18T14:24:...|https://www.twitt...|I secured investm...|              null|\n",
      "+-------------------+---------------+-------------------+--------------------+--------------------+--------------------+------------------+\n",
      "only showing top 5 rows\n",
      "\n"
     ]
    }
   ],
   "source": [
    "congressDF.show(5)"
   ]
  },
  {
   "cell_type": "code",
   "execution_count": 5,
   "metadata": {},
   "outputs": [
    {
     "name": "stdout",
     "output_type": "stream",
     "text": [
      "+------+\n",
      "| count|\n",
      "+------+\n",
      "|448622|\n",
      "+------+\n",
      "\n"
     ]
    }
   ],
   "source": [
    "congressDF.agg(countDistinct(col(\"_c1\")).alias(\"count\")).show()"
   ]
  },
  {
   "cell_type": "code",
   "execution_count": 14,
   "metadata": {},
   "outputs": [
    {
     "name": "stdout",
     "output_type": "stream",
     "text": [
      "+-------------------+------+\n",
      "|                _c1| count|\n",
      "+-------------------+------+\n",
      "|               null|239254|\n",
      "| Twitter for iPhone|112956|\n",
      "| Twitter Web Client| 92601|\n",
      "|          TweetDeck| 63030|\n",
      "|    Twitter Web App| 45194|\n",
      "|            auctnr1| 32868|\n",
      "|     HispanicCaucus| 16574|\n",
      "|        LacyClayMO1| 14784|\n",
      "|        RepDonBeyer| 11926|\n",
      "|          chiproytx| 10978|\n",
      "|       RepCloakroom| 10745|\n",
      "|Twitter for Android|  9999|\n",
      "|         RepJayapal|  9608|\n",
      "|      Sprout Social|  8706|\n",
      "|         JohnCornyn|  8500|\n",
      "|           RoKhanna|  8376|\n",
      "|           HouseGOP|  7900|\n",
      "|            tedlieu|  7811|\n",
      "|     RepAndyBiggsAZ|  7445|\n",
      "|        brianschatz|  7370|\n",
      "+-------------------+------+\n",
      "only showing top 20 rows\n",
      "\n"
     ]
    }
   ],
   "source": [
    "congressDF.groupBy(\"_c1\").count().orderBy(desc('count')).show(20)"
   ]
  },
  {
   "cell_type": "code",
   "execution_count": 15,
   "metadata": {},
   "outputs": [
    {
     "name": "stdout",
     "output_type": "stream",
     "text": [
      "+--------------------+-------+\n",
      "|                 _c6|  count|\n",
      "+--------------------+-------+\n",
      "|                null|1123464|\n",
      "|  Twitter for iPhone| 461562|\n",
      "|  Twitter Web Client| 416847|\n",
      "|           TweetDeck| 185662|\n",
      "|     Twitter Web App|  94696|\n",
      "| Twitter for Android|  30355|\n",
      "|    Twitter for iPad|  23177|\n",
      "|Twitter Media Studio|  17758|\n",
      "|       Sprout Social|  16272|\n",
      "|        Media Studio|  14382|\n",
      "|      Hootsuite Inc.|  10594|\n",
      "|              Buffer|  10109|\n",
      "|           Hootsuite|   5758|\n",
      "|        Twitter Lite|   5528|\n",
      "|           Instagram|   3661|\n",
      "|            Facebook|   2405|\n",
      "|Twitter Ads Composer|   1913|\n",
      "|             Echofon|   1468|\n",
      "|            Gain App|   1422|\n",
      "|         Twitter Ads|   1408|\n",
      "+--------------------+-------+\n",
      "only showing top 20 rows\n",
      "\n"
     ]
    }
   ],
   "source": [
    "congressDF.groupBy(\"_c6\").count().orderBy(desc('count')).show(20)"
   ]
  },
  {
   "cell_type": "code",
   "execution_count": 25,
   "metadata": {},
   "outputs": [],
   "source": [
    "congressDF = congressDF.withColumn(\"date\", congressDF['_c3'].cast(DateType()))"
   ]
  },
  {
   "cell_type": "code",
   "execution_count": 27,
   "metadata": {},
   "outputs": [
    {
     "name": "stdout",
     "output_type": "stream",
     "text": [
      "+----------+------+\n",
      "|      date| count|\n",
      "+----------+------+\n",
      "|      null|910633|\n",
      "|2018-01-30|  7389|\n",
      "|2019-02-05|  6603|\n",
      "|2019-12-18|  5827|\n",
      "|2019-11-20|  5022|\n",
      "|2019-11-13|  4892|\n",
      "|2019-12-04|  4865|\n",
      "|2019-12-12|  4678|\n",
      "|2019-06-12|  4642|\n",
      "|2019-07-24|  4583|\n",
      "|2019-12-11|  4355|\n",
      "|2018-06-20|  4354|\n",
      "|2019-06-27|  4340|\n",
      "|2019-04-02|  4325|\n",
      "|2018-04-17|  4318|\n",
      "|2019-11-19|  4291|\n",
      "|2019-06-26|  4285|\n",
      "|2018-11-06|  4285|\n",
      "|2019-09-10|  4280|\n",
      "|2019-02-27|  4264|\n",
      "|2019-02-26|  4254|\n",
      "|2019-05-22|  4235|\n",
      "|2019-10-23|  4234|\n",
      "|2019-12-10|  4208|\n",
      "|2019-06-04|  4197|\n",
      "|2019-06-20|  4173|\n",
      "|2019-05-16|  4111|\n",
      "|2019-04-30|  4089|\n",
      "|2018-06-06|  4060|\n",
      "|2019-03-27|  4049|\n",
      "|2018-03-14|  4041|\n",
      "|2019-06-19|  4040|\n",
      "|2019-05-08|  4038|\n",
      "|2019-05-01|  4034|\n",
      "|2019-10-17|  4025|\n",
      "|2019-03-26|  4024|\n",
      "|2019-03-06|  4009|\n",
      "|2019-02-06|  3973|\n",
      "|2019-02-07|  3945|\n",
      "|2019-02-14|  3933|\n",
      "|2018-05-08|  3933|\n",
      "|2019-05-15|  3925|\n",
      "|2019-02-13|  3886|\n",
      "|2019-03-13|  3883|\n",
      "|2018-01-19|  3883|\n",
      "|2018-05-16|  3876|\n",
      "|2019-07-25|  3847|\n",
      "|2019-04-09|  3828|\n",
      "|2018-05-17|  3827|\n",
      "|2019-12-19|  3825|\n",
      "|2019-12-09|  3823|\n",
      "|2019-10-30|  3818|\n",
      "|2018-06-27|  3801|\n",
      "|2018-01-20|  3792|\n",
      "|2019-07-17|  3790|\n",
      "|2019-11-21|  3783|\n",
      "|2019-09-25|  3777|\n",
      "|2019-11-14|  3775|\n",
      "|2019-09-11|  3775|\n",
      "|2019-05-21|  3771|\n",
      "|2018-06-13|  3760|\n",
      "|2018-05-22|  3759|\n",
      "|2019-06-11|  3737|\n",
      "|2017-07-19|  3722|\n",
      "|2019-06-25|  3718|\n",
      "|2019-05-09|  3717|\n",
      "|2019-12-17|  3715|\n",
      "|2019-09-26|  3711|\n",
      "|2019-03-12|  3691|\n",
      "|2019-10-31|  3684|\n",
      "|2019-05-02|  3680|\n",
      "|2018-02-27|  3673|\n",
      "|2019-10-22|  3657|\n",
      "|2019-03-08|  3643|\n",
      "|2019-09-17|  3642|\n",
      "|2018-06-26|  3636|\n",
      "|2019-09-18|  3636|\n",
      "|2019-07-10|  3632|\n",
      "|2018-06-14|  3624|\n",
      "|2019-09-24|  3620|\n",
      "|2019-04-10|  3606|\n",
      "|2018-06-21|  3601|\n",
      "|2018-03-20|  3600|\n",
      "|2018-09-13|  3595|\n",
      "|2018-04-18|  3593|\n",
      "|2018-07-11|  3591|\n",
      "|2017-07-27|  3588|\n",
      "|2017-07-26|  3576|\n",
      "|2019-03-07|  3569|\n",
      "|2019-10-29|  3566|\n",
      "|2018-04-25|  3564|\n",
      "|2019-04-03|  3564|\n",
      "|2018-06-19|  3561|\n",
      "|2018-07-25|  3550|\n",
      "|2018-05-09|  3550|\n",
      "|2019-01-08|  3549|\n",
      "|2019-09-12|  3547|\n",
      "|2018-09-05|  3543|\n",
      "|2019-11-15|  3543|\n",
      "|2018-01-18|  3535|\n",
      "+----------+------+\n",
      "only showing top 100 rows\n",
      "\n"
     ]
    }
   ],
   "source": [
    "congressDF.groupBy(\"date\").count().orderBy(desc('count')).show(100)"
   ]
  },
  {
   "cell_type": "code",
   "execution_count": null,
   "metadata": {},
   "outputs": [],
   "source": [
    "spark.stop()"
   ]
  },
  {
   "cell_type": "code",
   "execution_count": null,
   "metadata": {},
   "outputs": [],
   "source": [
    "sc.stop()"
   ]
  }
 ],
 "metadata": {
  "kernelspec": {
   "display_name": "Python 3",
   "language": "python",
   "name": "python3"
  },
  "language_info": {
   "codemirror_mode": {
    "name": "ipython",
    "version": 3
   },
   "file_extension": ".py",
   "mimetype": "text/x-python",
   "name": "python",
   "nbconvert_exporter": "python",
   "pygments_lexer": "ipython3",
   "version": "3.7.6"
  }
 },
 "nbformat": 4,
 "nbformat_minor": 4
}
