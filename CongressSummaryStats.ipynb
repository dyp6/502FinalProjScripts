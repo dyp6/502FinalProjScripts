{
 "cells": [
  {
   "cell_type": "code",
   "execution_count": 1,
   "metadata": {},
   "outputs": [],
   "source": [
    "import findspark\n",
    "findspark.init()\n",
    "from pyspark.sql import SparkSession\n",
    "spark = SparkSession.builder.appName(\"spark-nlp\") \\\n",
    "    .config(\"spark.jars.packages\", \"com.johnsnowlabs.nlp:spark-nlp_2.11:2.4.5\") \\\n",
    "    .getOrCreate()\n",
    "sc = spark.sparkContext"
   ]
  },
  {
   "cell_type": "code",
   "execution_count": 2,
   "metadata": {},
   "outputs": [],
   "source": [
    "from pyspark.sql.functions import col, countDistinct, desc, year, month, dayofmonth, hour, dayofweek, unix_timestamp, to_timestamp\n",
    "import datetime\n",
    "from pyspark.sql.types import DateType"
   ]
  },
  {
   "cell_type": "code",
   "execution_count": 3,
   "metadata": {},
   "outputs": [],
   "source": [
    "#load the dataset and shoe the first few columns to confirm the format\n",
    "congressDF = spark.read.csv(\"s3://502finalprojbucky/YearlyCongress/*.csv\")"
   ]
  },
  {
   "cell_type": "code",
   "execution_count": 4,
   "metadata": {},
   "outputs": [
    {
     "name": "stdout",
     "output_type": "stream",
     "text": [
      "+-------------------+---------------+-------------------+--------------------+--------------------+--------------------+------------------+\n",
      "|                _c0|            _c1|                _c2|                 _c3|                 _c4|                 _c5|               _c6|\n",
      "+-------------------+---------------+-------------------+--------------------+--------------------+--------------------+------------------+\n",
      "|1207381409809207296|  EliseStefanik|          109579534|2019-12-18T14:25:...|https://www.twitt...|I am excited to d...|Twitter for iPhone|\n",
      "|1207381362031894537| HouseJudiciary|          246357149|2019-12-18T14:25:...|https://www.twitt...|.@realDonaldTrump...|   Twitter Web App|\n",
      "|1207381351105732610|CaptClayHiggins|1011053278304591872|2019-12-18T14:25:...|https://www.twitt...|We have a choice,...|   Twitter Web App|\n",
      "|1207381243408637953|      RepWilson|          234014087|2019-12-18T14:24:...|https://www.twitt...|Today the House v...|   Twitter Web App|\n",
      "|1207381205999591424|    RepSusieLee|1079061579973439488|2019-12-18T14:24:...|https://www.twitt...|I secured investm...|              null|\n",
      "+-------------------+---------------+-------------------+--------------------+--------------------+--------------------+------------------+\n",
      "only showing top 5 rows\n",
      "\n"
     ]
    }
   ],
   "source": [
    "congressDF.show(5)"
   ]
  },
  {
   "cell_type": "code",
   "execution_count": 5,
   "metadata": {},
   "outputs": [
    {
     "data": {
      "text/plain": [
       "[Row(_c0='1207381409809207296', _c1='EliseStefanik', _c2='109579534', _c3='2019-12-18T14:25:34-05:00', _c4='https://www.twitter.com/EliseStefanik/statuses/1207381409809207296', _c5='I am excited to deliver this significant #Result for Fort Drum and #NY21 after a year of hard work and advocacy @7NewsWatertown #ResultsvsResistance https://www.wwnytv.com/2019/12/18/drum-get-millions-hangar-railhead/', _c6='Twitter for iPhone')]"
      ]
     },
     "execution_count": 5,
     "metadata": {},
     "output_type": "execute_result"
    }
   ],
   "source": [
    "congressDF.take(1)"
   ]
  },
  {
   "cell_type": "code",
   "execution_count": 6,
   "metadata": {},
   "outputs": [
    {
     "name": "stdout",
     "output_type": "stream",
     "text": [
      "+-------------------+---------------+-------------------+--------------------+--------------------+--------------------+------------------+-------------------+\n",
      "|                _c0|            _c1|                _c2|                 _c3|                 _c4|                 _c5|               _c6|           dt_stamp|\n",
      "+-------------------+---------------+-------------------+--------------------+--------------------+--------------------+------------------+-------------------+\n",
      "|1207381409809207296|  EliseStefanik|          109579534|2019-12-18T14:25:...|https://www.twitt...|I am excited to d...|Twitter for iPhone|2019-12-18 19:25:34|\n",
      "|1207381362031894537| HouseJudiciary|          246357149|2019-12-18T14:25:...|https://www.twitt...|.@realDonaldTrump...|   Twitter Web App|2019-12-18 19:25:23|\n",
      "|1207381351105732610|CaptClayHiggins|1011053278304591872|2019-12-18T14:25:...|https://www.twitt...|We have a choice,...|   Twitter Web App|2019-12-18 19:25:20|\n",
      "|1207381243408637953|      RepWilson|          234014087|2019-12-18T14:24:...|https://www.twitt...|Today the House v...|   Twitter Web App|2019-12-18 19:24:55|\n",
      "|1207381205999591424|    RepSusieLee|1079061579973439488|2019-12-18T14:24:...|https://www.twitt...|I secured investm...|              null|2019-12-18 19:24:46|\n",
      "+-------------------+---------------+-------------------+--------------------+--------------------+--------------------+------------------+-------------------+\n",
      "only showing top 5 rows\n",
      "\n"
     ]
    }
   ],
   "source": [
    "#convert the datetime stamp to a date column for future analysis\n",
    "congressDF = congressDF.withColumn('dt_stamp', to_timestamp(col('_c3'), \"yyyy-MM-dd'T'HH:mm:ssXXX\").cast(\"timestamp\"))\n",
    "congressDF.show(5)"
   ]
  },
  {
   "cell_type": "code",
   "execution_count": 7,
   "metadata": {},
   "outputs": [
    {
     "name": "stdout",
     "output_type": "stream",
     "text": [
      "+-------------------+---------------+-------------------+--------------------+--------------------+--------------------+------------------+-------------------+----------+\n",
      "|                _c0|            _c1|                _c2|                 _c3|                 _c4|                 _c5|               _c6|           dt_stamp|      date|\n",
      "+-------------------+---------------+-------------------+--------------------+--------------------+--------------------+------------------+-------------------+----------+\n",
      "|1207381409809207296|  EliseStefanik|          109579534|2019-12-18T14:25:...|https://www.twitt...|I am excited to d...|Twitter for iPhone|2019-12-18 19:25:34|2019-12-18|\n",
      "|1207381362031894537| HouseJudiciary|          246357149|2019-12-18T14:25:...|https://www.twitt...|.@realDonaldTrump...|   Twitter Web App|2019-12-18 19:25:23|2019-12-18|\n",
      "|1207381351105732610|CaptClayHiggins|1011053278304591872|2019-12-18T14:25:...|https://www.twitt...|We have a choice,...|   Twitter Web App|2019-12-18 19:25:20|2019-12-18|\n",
      "|1207381243408637953|      RepWilson|          234014087|2019-12-18T14:24:...|https://www.twitt...|Today the House v...|   Twitter Web App|2019-12-18 19:24:55|2019-12-18|\n",
      "|1207381205999591424|    RepSusieLee|1079061579973439488|2019-12-18T14:24:...|https://www.twitt...|I secured investm...|              null|2019-12-18 19:24:46|2019-12-18|\n",
      "+-------------------+---------------+-------------------+--------------------+--------------------+--------------------+------------------+-------------------+----------+\n",
      "only showing top 5 rows\n",
      "\n"
     ]
    }
   ],
   "source": [
    "congressDF = congressDF.withColumn(\"date\", congressDF['_c3'].cast(DateType()))\n",
    "congressDF.show(5)"
   ]
  },
  {
   "cell_type": "code",
   "execution_count": 8,
   "metadata": {},
   "outputs": [],
   "source": [
    "#drop columns with null/na values for summary statistics \n",
    "congressDF = congressDF.filter(congressDF.date.isNotNull())"
   ]
  },
  {
   "cell_type": "code",
   "execution_count": 9,
   "metadata": {},
   "outputs": [
    {
     "name": "stdout",
     "output_type": "stream",
     "text": [
      "+----------+-----+\n",
      "|      date|count|\n",
      "+----------+-----+\n",
      "|2018-01-30| 7389|\n",
      "|2019-02-05| 6603|\n",
      "|2019-12-18| 5827|\n",
      "|2019-11-20| 5022|\n",
      "|2019-11-13| 4892|\n",
      "|2019-12-04| 4865|\n",
      "|2019-12-12| 4678|\n",
      "|2019-06-12| 4642|\n",
      "|2019-07-24| 4583|\n",
      "|2019-12-11| 4355|\n",
      "+----------+-----+\n",
      "only showing top 10 rows\n",
      "\n"
     ]
    }
   ],
   "source": [
    "dateCounts = congressDF.groupBy(\"date\").count().orderBy(desc('count'))\n",
    "dateCounts.show(10)"
   ]
  },
  {
   "cell_type": "code",
   "execution_count": 10,
   "metadata": {},
   "outputs": [],
   "source": [
    "dateCounts.repartition(1).write.csv('congressDateCounts2.csv')"
   ]
  },
  {
   "cell_type": "code",
   "execution_count": 11,
   "metadata": {},
   "outputs": [
    {
     "name": "stdout",
     "output_type": "stream",
     "text": [
      "+----+------+\n",
      "|hour| count|\n",
      "+----+------+\n",
      "|  18|156137|\n",
      "|  19|156126|\n",
      "|  20|152310|\n",
      "|  16|150717|\n",
      "|  17|150151|\n",
      "+----+------+\n",
      "only showing top 5 rows\n",
      "\n"
     ]
    }
   ],
   "source": [
    "hourCounts = congressDF.select(hour(\"dt_stamp\").alias('hour'))\\\n",
    "                     .groupBy(\"hour\").count().orderBy(desc('count'))\n",
    "hourCounts.show(5)"
   ]
  },
  {
   "cell_type": "code",
   "execution_count": 12,
   "metadata": {},
   "outputs": [],
   "source": [
    "hourCounts.repartition(1).write.csv('congressHourCounts2.csv')"
   ]
  },
  {
   "cell_type": "code",
   "execution_count": 13,
   "metadata": {},
   "outputs": [
    {
     "name": "stdout",
     "output_type": "stream",
     "text": [
      "+----+------+\n",
      "| dow| count|\n",
      "+----+------+\n",
      "|   4|363060|\n",
      "|   5|335706|\n",
      "|   3|318524|\n",
      "|   6|272209|\n",
      "|   2|228901|\n",
      "|   7|131525|\n",
      "|   1|103267|\n",
      "|null|    14|\n",
      "+----+------+\n",
      "\n"
     ]
    }
   ],
   "source": [
    "dowCounts = congressDF.select(dayofweek(\"dt_stamp\").alias('dow'))\\\n",
    "                     .groupBy(\"dow\").count().orderBy(desc('count'))\n",
    "dowCounts.show()  #Sunday is 1"
   ]
  },
  {
   "cell_type": "code",
   "execution_count": 14,
   "metadata": {},
   "outputs": [],
   "source": [
    "dowCounts.repartition(1).write.csv('congressDOWCounts2.csv')"
   ]
  },
  {
   "cell_type": "code",
   "execution_count": 59,
   "metadata": {},
   "outputs": [],
   "source": [
    "spark.stop()"
   ]
  },
  {
   "cell_type": "code",
   "execution_count": 60,
   "metadata": {},
   "outputs": [],
   "source": [
    "sc.stop()"
   ]
  }
 ],
 "metadata": {
  "kernelspec": {
   "display_name": "Python 3",
   "language": "python",
   "name": "python3"
  },
  "language_info": {
   "codemirror_mode": {
    "name": "ipython",
    "version": 3
   },
   "file_extension": ".py",
   "mimetype": "text/x-python",
   "name": "python",
   "nbconvert_exporter": "python",
   "pygments_lexer": "ipython3",
   "version": "3.7.6"
  }
 },
 "nbformat": 4,
 "nbformat_minor": 4
}
