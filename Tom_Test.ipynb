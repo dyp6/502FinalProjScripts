{
 "cells": [
  {
   "cell_type": "code",
   "execution_count": 1,
   "metadata": {},
   "outputs": [],
   "source": [
    "from dask_yarn import YarnCluster"
   ]
  },
  {
   "cell_type": "code",
   "execution_count": 2,
   "metadata": {},
   "outputs": [],
   "source": [
    "from dask.distributed import Client"
   ]
  },
  {
   "cell_type": "code",
   "execution_count": 3,
   "metadata": {},
   "outputs": [
    {
     "name": "stderr",
     "output_type": "stream",
     "text": [
      "distributed.scheduler - INFO - Clear task state\n",
      "distributed.scheduler - INFO -   Scheduler at: tcp://172.31.17.192:45085\n",
      "distributed.scheduler - INFO -   dashboard at:                    :42251\n"
     ]
    }
   ],
   "source": [
    "cluster = YarnCluster()"
   ]
  },
  {
   "cell_type": "code",
   "execution_count": 4,
   "metadata": {},
   "outputs": [
    {
     "name": "stderr",
     "output_type": "stream",
     "text": [
      "distributed.scheduler - INFO - Receive client connection: Client-53dab2b4-7f2a-11ea-b42d-0ae35d1b899f\n",
      "distributed.core - INFO - Starting established connection\n"
     ]
    }
   ],
   "source": [
    "client = Client(cluster)"
   ]
  },
  {
   "cell_type": "code",
   "execution_count": 5,
   "metadata": {},
   "outputs": [
    {
     "data": {
      "text/html": [
       "<table style=\"border: 2px solid white;\">\n",
       "<tr>\n",
       "<td style=\"vertical-align: top; border: 0px solid white\">\n",
       "<h3 style=\"text-align: left;\">Client</h3>\n",
       "<ul style=\"text-align: left; list-style: none; margin: 0; padding: 0;\">\n",
       "  <li><b>Scheduler: </b>tcp://172.31.17.192:45085</li>\n",
       "  <li><b>Dashboard: </b><a href='/proxy/42251/status' target='_blank'>/proxy/42251/status</a>\n",
       "</ul>\n",
       "</td>\n",
       "<td style=\"vertical-align: top; border: 0px solid white\">\n",
       "<h3 style=\"text-align: left;\">Cluster</h3>\n",
       "<ul style=\"text-align: left; list-style:none; margin: 0; padding: 0;\">\n",
       "  <li><b>Workers: </b>0</li>\n",
       "  <li><b>Cores: </b>0</li>\n",
       "  <li><b>Memory: </b>0 B</li>\n",
       "</ul>\n",
       "</td>\n",
       "</tr>\n",
       "</table>"
      ],
      "text/plain": [
       "<Client: 'tcp://172.31.17.192:45085' processes=0 threads=0, memory=0 B>"
      ]
     },
     "execution_count": 5,
     "metadata": {},
     "output_type": "execute_result"
    }
   ],
   "source": [
    "client"
   ]
  },
  {
   "cell_type": "code",
   "execution_count": 6,
   "metadata": {},
   "outputs": [
    {
     "data": {
      "application/vnd.jupyter.widget-view+json": {
       "model_id": "00c7660240e6420cb9ca5d9029ac14e1",
       "version_major": 2,
       "version_minor": 0
      },
      "text/plain": [
       "VBox(children=(HTML(value='<h2>YarnCluster</h2>'), HBox(children=(HTML(value='\\n<div>\\n<style scoped>\\n    .da…"
      ]
     },
     "metadata": {},
     "output_type": "display_data"
    }
   ],
   "source": [
    "import ipywidgets\n",
    "cluster"
   ]
  },
  {
   "cell_type": "code",
   "execution_count": 7,
   "metadata": {},
   "outputs": [],
   "source": [
    "cluster.scale(2)"
   ]
  },
  {
   "cell_type": "code",
   "execution_count": 8,
   "metadata": {},
   "outputs": [
    {
     "data": {
      "text/html": [
       "<table style=\"border: 2px solid white;\">\n",
       "<tr>\n",
       "<td style=\"vertical-align: top; border: 0px solid white\">\n",
       "<h3 style=\"text-align: left;\">Client</h3>\n",
       "<ul style=\"text-align: left; list-style: none; margin: 0; padding: 0;\">\n",
       "  <li><b>Scheduler: </b>tcp://172.31.17.192:45085</li>\n",
       "  <li><b>Dashboard: </b><a href='/proxy/42251/status' target='_blank'>/proxy/42251/status</a>\n",
       "</ul>\n",
       "</td>\n",
       "<td style=\"vertical-align: top; border: 0px solid white\">\n",
       "<h3 style=\"text-align: left;\">Cluster</h3>\n",
       "<ul style=\"text-align: left; list-style:none; margin: 0; padding: 0;\">\n",
       "  <li><b>Workers: </b>0</li>\n",
       "  <li><b>Cores: </b>0</li>\n",
       "  <li><b>Memory: </b>0 B</li>\n",
       "</ul>\n",
       "</td>\n",
       "</tr>\n",
       "</table>"
      ],
      "text/plain": [
       "<Client: 'tcp://172.31.17.192:45085' processes=0 threads=0, memory=0 B>"
      ]
     },
     "execution_count": 8,
     "metadata": {},
     "output_type": "execute_result"
    }
   ],
   "source": [
    "client"
   ]
  },
  {
   "cell_type": "code",
   "execution_count": 9,
   "metadata": {},
   "outputs": [],
   "source": [
    "import dask\n",
    "import dask.dataframe as dd"
   ]
  },
  {
   "cell_type": "code",
   "execution_count": 10,
   "metadata": {},
   "outputs": [],
   "source": [
    "months = ['Jan', 'Feb', 'Mar', 'Apr', 'May', 'June', 'July', 'Aug', 'Sep', 'Oct', 'Nov', 'Dec']\n",
    "years  = ['2017', '2018', '2019']"
   ]
  },
  {
   "cell_type": "code",
   "execution_count": 11,
   "metadata": {},
   "outputs": [],
   "source": [
    "monthList = []\n",
    "\n",
    "for i in years:\n",
    "    for j in months:\n",
    "        monthList.append(j+i)\n",
    "        \n",
    "monthList = monthList[5:]  #starts with June 2017"
   ]
  },
  {
   "cell_type": "code",
   "execution_count": 15,
   "metadata": {},
   "outputs": [
    {
     "data": {
      "text/html": [
       "<div>\n",
       "<style scoped>\n",
       "    .dataframe tbody tr th:only-of-type {\n",
       "        vertical-align: middle;\n",
       "    }\n",
       "\n",
       "    .dataframe tbody tr th {\n",
       "        vertical-align: top;\n",
       "    }\n",
       "\n",
       "    .dataframe thead th {\n",
       "        text-align: right;\n",
       "    }\n",
       "</style>\n",
       "<table border=\"1\" class=\"dataframe\">\n",
       "  <thead>\n",
       "    <tr style=\"text-align: right;\">\n",
       "      <th></th>\n",
       "      <th>Unnamed: 0</th>\n",
       "      <th>screen_name</th>\n",
       "      <th>time</th>\n",
       "      <th>link</th>\n",
       "      <th>text</th>\n",
       "      <th>source</th>\n",
       "      <th>user_id</th>\n",
       "    </tr>\n",
       "    <tr>\n",
       "      <th>id</th>\n",
       "      <th></th>\n",
       "      <th></th>\n",
       "      <th></th>\n",
       "      <th></th>\n",
       "      <th></th>\n",
       "      <th></th>\n",
       "      <th></th>\n",
       "    </tr>\n",
       "  </thead>\n",
       "  <tbody>\n",
       "    <tr>\n",
       "      <th>877376225664090112</th>\n",
       "      <td>9</td>\n",
       "      <td>tedlieu</td>\n",
       "      <td>2017-06-21T00:02:47-04:00</td>\n",
       "      <td>https://www.twitter.com/tedlieu/statuses/87737...</td>\n",
       "      <td>Why should world leaders trust or listen to US...</td>\n",
       "      <td>Twitter for Android</td>\n",
       "      <td>21059255</td>\n",
       "    </tr>\n",
       "    <tr>\n",
       "      <th>877383834240667648</th>\n",
       "      <td>17</td>\n",
       "      <td>KamalaHarris</td>\n",
       "      <td>2017-06-21T00:33:01-04:00</td>\n",
       "      <td>https://www.twitter.com/KamalaHarris/statuses/...</td>\n",
       "      <td>No public hearings. \\nNo debate. \\nNo text.\\nN...</td>\n",
       "      <td>Sprout Social</td>\n",
       "      <td>30354991</td>\n",
       "    </tr>\n",
       "    <tr>\n",
       "      <th>877400668411052032</th>\n",
       "      <td>14</td>\n",
       "      <td>TulsiGabbard</td>\n",
       "      <td>2017-06-21T01:39:55-04:00</td>\n",
       "      <td>https://www.twitter.com/TulsiGabbard/statuses/...</td>\n",
       "      <td>Join me in celebrating the gift of yoga on thi...</td>\n",
       "      <td>Twitter for iPhone</td>\n",
       "      <td>26637348</td>\n",
       "    </tr>\n",
       "    <tr>\n",
       "      <th>877405817565306880</th>\n",
       "      <td>15</td>\n",
       "      <td>JerryNadler</td>\n",
       "      <td>2017-06-21T02:00:22-04:00</td>\n",
       "      <td>https://www.twitter.com/JerryNadler/statuses/8...</td>\n",
       "      <td>Congratulations to Jon @ossoff and #GADems on ...</td>\n",
       "      <td>Twitter for iPhone</td>\n",
       "      <td>408816873</td>\n",
       "    </tr>\n",
       "    <tr>\n",
       "      <th>877409109846478848</th>\n",
       "      <td>16</td>\n",
       "      <td>JerryNadler</td>\n",
       "      <td>2017-06-21T02:13:27-04:00</td>\n",
       "      <td>https://www.twitter.com/JerryNadler/statuses/8...</td>\n",
       "      <td>#GA06 is #GOP stronghold &amp;amp; @ossoff nearly ...</td>\n",
       "      <td>Twitter for iPhone</td>\n",
       "      <td>408816873</td>\n",
       "    </tr>\n",
       "  </tbody>\n",
       "</table>\n",
       "</div>"
      ],
      "text/plain": [
       "                    Unnamed: 0   screen_name                       time  \\\n",
       "id                                                                        \n",
       "877376225664090112           9       tedlieu  2017-06-21T00:02:47-04:00   \n",
       "877383834240667648          17  KamalaHarris  2017-06-21T00:33:01-04:00   \n",
       "877400668411052032          14  TulsiGabbard  2017-06-21T01:39:55-04:00   \n",
       "877405817565306880          15   JerryNadler  2017-06-21T02:00:22-04:00   \n",
       "877409109846478848          16   JerryNadler  2017-06-21T02:13:27-04:00   \n",
       "\n",
       "                                                                 link  \\\n",
       "id                                                                      \n",
       "877376225664090112  https://www.twitter.com/tedlieu/statuses/87737...   \n",
       "877383834240667648  https://www.twitter.com/KamalaHarris/statuses/...   \n",
       "877400668411052032  https://www.twitter.com/TulsiGabbard/statuses/...   \n",
       "877405817565306880  https://www.twitter.com/JerryNadler/statuses/8...   \n",
       "877409109846478848  https://www.twitter.com/JerryNadler/statuses/8...   \n",
       "\n",
       "                                                                 text  \\\n",
       "id                                                                      \n",
       "877376225664090112  Why should world leaders trust or listen to US...   \n",
       "877383834240667648  No public hearings. \\nNo debate. \\nNo text.\\nN...   \n",
       "877400668411052032  Join me in celebrating the gift of yoga on thi...   \n",
       "877405817565306880  Congratulations to Jon @ossoff and #GADems on ...   \n",
       "877409109846478848  #GA06 is #GOP stronghold &amp; @ossoff nearly ...   \n",
       "\n",
       "                                 source    user_id  \n",
       "id                                                  \n",
       "877376225664090112  Twitter for Android   21059255  \n",
       "877383834240667648        Sprout Social   30354991  \n",
       "877400668411052032   Twitter for iPhone   26637348  \n",
       "877405817565306880   Twitter for iPhone  408816873  \n",
       "877409109846478848   Twitter for iPhone  408816873  "
      ]
     },
     "execution_count": 15,
     "metadata": {},
     "output_type": "execute_result"
    }
   ],
   "source": [
    "df = dd.read_csv('s3://502finalprojbucky/congresstweets/data/' + str(monthList[0]) + '.csv/*.part')\n",
    "df = df.set_index('id')\n",
    "df.head()"
   ]
  },
  {
   "cell_type": "code",
   "execution_count": 19,
   "metadata": {},
   "outputs": [
    {
     "data": {
      "text/plain": [
       "(Delayed('int-4ecdff2e-c218-4ce0-9abc-60b8700d93ef'), 7)"
      ]
     },
     "execution_count": 19,
     "metadata": {},
     "output_type": "execute_result"
    }
   ],
   "source": [
    "df.shape"
   ]
  },
  {
   "cell_type": "code",
   "execution_count": 12,
   "metadata": {},
   "outputs": [
    {
     "name": "stdout",
     "output_type": "stream",
     "text": [
      "June2017\n",
      "July2017\n",
      "Aug2017\n",
      "Sep2017\n",
      "Oct2017\n",
      "Nov2017\n"
     ]
    },
    {
     "name": "stderr",
     "output_type": "stream",
     "text": [
      "distributed.scheduler - INFO - Register worker <Worker 'tcp://172.31.22.42:40471', name: dask.worker_0, memory: 0, processing: 0>\n",
      "distributed.scheduler - INFO - Starting worker compute stream, tcp://172.31.22.42:40471\n",
      "distributed.core - INFO - Starting established connection\n"
     ]
    },
    {
     "name": "stdout",
     "output_type": "stream",
     "text": [
      "Dec2017\n"
     ]
    },
    {
     "name": "stderr",
     "output_type": "stream",
     "text": [
      "distributed.scheduler - INFO - Register worker <Worker 'tcp://172.31.19.61:45723', name: dask.worker_1, memory: 0, processing: 0>\n",
      "distributed.scheduler - INFO - Starting worker compute stream, tcp://172.31.19.61:45723\n",
      "distributed.core - INFO - Starting established connection\n"
     ]
    },
    {
     "name": "stdout",
     "output_type": "stream",
     "text": [
      "Jan2018\n",
      "Feb2018\n",
      "Mar2018\n",
      "Apr2018\n",
      "May2018\n",
      "June2018\n",
      "July2018\n",
      "Aug2018\n",
      "Sep2018\n",
      "Oct2018\n",
      "Nov2018\n",
      "Dec2018\n",
      "Jan2019\n",
      "Feb2019\n",
      "Mar2019\n",
      "Apr2019\n",
      "May2019\n",
      "June2019\n",
      "July2019\n",
      "Aug2019\n"
     ]
    },
    {
     "name": "stderr",
     "output_type": "stream",
     "text": [
      "distributed.utils_perf - WARNING - full garbage collections took 10% CPU time recently (threshold: 10%)\n"
     ]
    },
    {
     "name": "stdout",
     "output_type": "stream",
     "text": [
      "Sep2019\n"
     ]
    },
    {
     "name": "stderr",
     "output_type": "stream",
     "text": [
      "distributed.utils_perf - WARNING - full garbage collections took 10% CPU time recently (threshold: 10%)\n"
     ]
    },
    {
     "name": "stdout",
     "output_type": "stream",
     "text": [
      "Oct2019\n"
     ]
    },
    {
     "name": "stderr",
     "output_type": "stream",
     "text": [
      "distributed.utils_perf - WARNING - full garbage collections took 11% CPU time recently (threshold: 10%)\n"
     ]
    },
    {
     "name": "stdout",
     "output_type": "stream",
     "text": [
      "Nov2019\n"
     ]
    },
    {
     "name": "stderr",
     "output_type": "stream",
     "text": [
      "distributed.utils_perf - WARNING - full garbage collections took 11% CPU time recently (threshold: 10%)\n"
     ]
    },
    {
     "name": "stdout",
     "output_type": "stream",
     "text": [
      "Dec2019\n"
     ]
    }
   ],
   "source": [
    "for i in monthList[0:2]:\n",
    "    filename = 's3://502finalprojbucky/congresstweets/data/' + str(i) + '.csv/*.part'\n",
    "    if i == 'June2017':\n",
    "        print(i)\n",
    "        df = dd.read_csv(filename)\n",
    "        df = df.set_index('id')\n",
    "    else:\n",
    "        print(i)\n",
    "        temp = dd.read_csv(filename)\n",
    "        df   = dd.concat([df, temp], axis = 0)"
   ]
  },
  {
   "cell_type": "code",
   "execution_count": 21,
   "metadata": {},
   "outputs": [],
   "source": [
    "sample = df.sample(frac=.1, replace = False, random_state = 126)"
   ]
  },
  {
   "cell_type": "code",
   "execution_count": null,
   "metadata": {},
   "outputs": [],
   "source": [
    "df.head()"
   ]
  }
 ],
 "metadata": {
  "kernelspec": {
   "display_name": "Python 3",
   "language": "python",
   "name": "python3"
  },
  "language_info": {
   "codemirror_mode": {
    "name": "ipython",
    "version": 3
   },
   "file_extension": ".py",
   "mimetype": "text/x-python",
   "name": "python",
   "nbconvert_exporter": "python",
   "pygments_lexer": "ipython3",
   "version": "3.7.6"
  }
 },
 "nbformat": 4,
 "nbformat_minor": 4
}
